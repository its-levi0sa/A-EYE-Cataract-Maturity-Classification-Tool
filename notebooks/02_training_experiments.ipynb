{
 "cells": [
  {
   "cell_type": "markdown",
   "id": "c0af087c",
   "metadata": {},
   "source": [
    "# 2. Training Experiments Execution\n",
    "\n",
    "**Objective:** Use this notebook as a control panel to launch the training scripts for each model configuration. The training logs will be displayed in the output of each cell and also saved to the `../results/` directory.\n",
    "\n",
    "**Note:** Since you have already trained your models, you do not need to run these cells again. This notebook is for demonstrating the reproducible training workflow."
   ]
  },
  {
   "cell_type": "markdown",
   "id": "3e5897b7",
   "metadata": {},
   "source": [
    "### Train the Baseline Model"
   ]
  },
  {
   "cell_type": "code",
   "execution_count": null,
   "id": "a7467d80",
   "metadata": {},
   "outputs": [],
   "source": [
    "!python ../scripts/train.py \\\n",
    "    --model_type baseline \\\n",
    "    --data_dir ../data/train"
   ]
  },
  {
   "cell_type": "markdown",
   "id": "41f53cf4",
   "metadata": {},
   "source": [
    "### Train the A-EYE Model (4 Rings)"
   ]
  },
  {
   "cell_type": "code",
   "execution_count": null,
   "id": "ef256b2f",
   "metadata": {},
   "outputs": [],
   "source": [
    "!python ../scripts/train.py \\\n",
    "    --model_type aeye \\\n",
    "    --num_rings 4 \\\n",
    "    --data_dir ../data/train"
   ]
  },
  {
   "cell_type": "markdown",
   "id": "ac33363c",
   "metadata": {},
   "source": [
    "### Train the A-EYE Model (8 Rings)"
   ]
  },
  {
   "cell_type": "code",
   "execution_count": null,
   "id": "90f8824c",
   "metadata": {},
   "outputs": [],
   "source": [
    "!python ../scripts/train.py \\\n",
    "    --model_type aeye \\\n",
    "    --num_rings 8 \\\n",
    "    --data_dir ../data/train"
   ]
  },
  {
   "cell_type": "markdown",
   "id": "2be77da8",
   "metadata": {},
   "source": [
    "### Train the A-EYE Model (16 Rings)"
   ]
  },
  {
   "cell_type": "code",
   "execution_count": null,
   "id": "214f7829",
   "metadata": {},
   "outputs": [],
   "source": [
    "!python ../scripts/train.py \\\n",
    "    --model_type aeye \\\n",
    "    --num_rings 16 \\\n",
    "    --data_dir ../data/train"
   ]
  }
 ],
 "metadata": {
  "language_info": {
   "name": "python"
  }
 },
 "nbformat": 4,
 "nbformat_minor": 5
}
