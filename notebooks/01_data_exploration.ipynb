{
 "cells": [
  {
   "cell_type": "markdown",
   "id": "b2e33a0e",
   "metadata": {},
   "source": [
    "# 1. Data Exploration and Preprocessing Visualization\n",
    "\n",
    "**Objective:** Understand the dataset's composition and visualize the effect of our preprocessing pipeline, particularly the Contrast Limited Adaptive Histogram Equalization (CLAHE)."
   ]
  },
  {
   "cell_type": "code",
   "execution_count": null,
   "id": "32e7cfdc",
   "metadata": {},
   "outputs": [],
   "source": [
    "import os\n",
    "import cv2\n",
    "import numpy as np\n",
    "import matplotlib.pyplot as plt\n",
    "from glob import glob\n",
    "\n",
    "# Adjust the path to import from the src directory\n",
    "import sys\n",
    "sys.path.append('../')\n",
    "from src.data_utils import get_transforms"
   ]
  },
  {
   "cell_type": "markdown",
   "id": "75294207",
   "metadata": {},
   "source": [
    "### Check Data Paths and Class Balance"
   ]
  },
  {
   "cell_type": "code",
   "execution_count": null,
   "id": "87c0af5f",
   "metadata": {},
   "outputs": [],
   "source": [
    "DATA_DIR = '../data/train'\n",
    "mature_paths = glob(os.path.join(DATA_DIR, 'mature', '*'))\n",
    "immature_paths = glob(os.path.join(DATA_DIR, 'immature', '*'))\n",
    "\n",
    "print(f\"Found {len(mature_paths)} mature cataract images.\")\n",
    "print(f\"Found {len(immature_paths)} immature cataract images.\")\n",
    "print(f\"Total training images: {len(mature_paths) + len(immature_paths)}\")"
   ]
  },
  {
   "cell_type": "markdown",
   "id": "a1d00eaf",
   "metadata": {},
   "source": [
    "### Visualize Sample Images (Mature vs. Immature)"
   ]
  },
  {
   "cell_type": "code",
   "execution_count": null,
   "id": "5c5b9ede",
   "metadata": {},
   "outputs": [],
   "source": [
    "def show_samples(mature_path, immature_path):\n",
    "    fig, ax = plt.subplots(1, 2, figsize=(12, 6))\n",
    "    \n",
    "    mature_img = cv2.imread(mature_path)\n",
    "    mature_img = cv2.cvtColor(mature_img, cv2.COLOR_BGR2RGB)\n",
    "    ax[0].imshow(mature_img)\n",
    "    ax[0].set_title('Sample Mature Cataract')\n",
    "    ax[0].axis('off')\n",
    "    \n",
    "    immature_img = cv2.imread(immature_path)\n",
    "    immature_img = cv2.cvtColor(immature_img, cv2.COLOR_BGR2RGB)\n",
    "    ax[1].imshow(immature_img)\n",
    "    ax[1].set_title('Sample Immature Cataract')\n",
    "    ax[1].axis('off')\n",
    "    \n",
    "    plt.show()\n",
    "\n",
    "# Show one example\n",
    "if mature_paths and immature_paths:\n",
    "    show_samples(mature_paths[0], immature_paths[0])"
   ]
  },
  {
   "cell_type": "markdown",
   "id": "32b15625",
   "metadata": {},
   "source": [
    "### Visualize the Effect of CLAHE Preprocessing"
   ]
  },
  {
   "cell_type": "code",
   "execution_count": null,
   "id": "d050d8ad",
   "metadata": {},
   "outputs": [],
   "source": [
    "def visualize_transforms(image_path):\n",
    "    # Load image\n",
    "    original_image = cv2.imread(image_path)\n",
    "    original_image_rgb = cv2.cvtColor(original_image, cv2.COLOR_BGR2RGB)\n",
    "\n",
    "    # Get the transformation pipeline (which includes CLAHE)\n",
    "    transform = get_transforms(is_train=False)\n",
    "    \n",
    "    # Apply just the CLAHE part for visualization\n",
    "    clahe_transform = transform.transforms[1]\n",
    "    clahe_image = clahe_transform(image=original_image)['image']\n",
    "    clahe_image_rgb = cv2.cvtColor(clahe_image, cv2.COLOR_BGR2RGB)\n",
    "\n",
    "    fig, ax = plt.subplots(1, 2, figsize=(12, 6))\n",
    "    ax[0].imshow(original_image_rgb)\n",
    "    ax[0].set_title('Original Image')\n",
    "    ax[0].axis('off')\n",
    "\n",
    "    ax[1].imshow(clahe_image_rgb)\n",
    "    ax[1].set_title('Image after CLAHE')\n",
    "    ax[1].axis('off')\n",
    "\n",
    "    plt.show()\n",
    "\n",
    "# Visualize the effect on a mature cataract image\n",
    "if mature_paths:\n",
    "    visualize_transforms(mature_paths[0])"
   ]
  }
 ],
 "metadata": {
  "language_info": {
   "name": "python"
  }
 },
 "nbformat": 4,
 "nbformat_minor": 5
}
