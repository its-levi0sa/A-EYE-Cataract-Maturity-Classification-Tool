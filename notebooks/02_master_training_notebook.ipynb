{
 "cells": [
  {
   "cell_type": "markdown",
   "id": "5cb83a07",
   "metadata": {},
   "source": [
    "# A-EYE: Master Training Notebook\n",
    "\n",
    "**Objective:** To serve as the central control panel for running full training sessions for all model configurations (Baseline, A-EYE 4, 8, and 16 rings).\n",
    "\n",
    "### Workflow:\n",
    "1.  **Setup:** Clones the repository, sets the Python Path, and installs dependencies.\n",
    "2.  **Patching:** Modifies the `train.py` script on-the-fly to be notebook-friendly (fixes progress bars, enables custom logging).\n",
    "3.  **Execution:** Provides separate, clearly marked cells to launch the full training process for each of the four models. The output and logs will be saved correctly."
   ]
  },
  {
   "cell_type": "markdown",
   "id": "39a3b68f",
   "metadata": {},
   "source": [
    "## Step 1: Environment Setup"
   ]
  },
  {
   "cell_type": "code",
   "execution_count": null,
   "id": "b1417324",
   "metadata": {},
   "outputs": [],
   "source": [
    "import os\n",
    "import sys\n",
    "import warnings\n",
    "\n",
    "# Suppress harmless warnings for a cleaner output\n",
    "warnings.filterwarnings('ignore')\n",
    "\n",
    "# --- Clone Repository ---\n",
    "if not os.path.exists('A-EYE-Cataract-Classification'):\n",
    "    # Replace with your repository URL\n",
    "    !git clone https://github.com/its-levi0sa/a-eye-cataract-maturity-classification-tool.git A-EYE-Cataract-Classification\n",
    "\n",
    "# --- Configure Paths and Install Dependencies ---\n",
    "PROJECT_DIR = 'A-EYE-Cataract-Classification'\n",
    "%cd {PROJECT_DIR}\n",
    "\n",
    "# Add the project root to the Python path to fix ModuleNotFoundError\n",
    "if os.path.abspath('.') not in sys.path:\n",
    "    sys.path.insert(0, os.path.abspath('.'))\n",
    "\n",
    "!pip install -q -r requirements.txt\n",
    "\n",
    "print(\"✅ Environment setup complete!\")"
   ]
  },
  {
   "cell_type": "markdown",
   "id": "3c548075",
   "metadata": {},
   "source": [
    "## Step 2: Patch `train.py` for Interactive Use\n",
    "\n",
    "This cell modifies the training script to ensure progress bars and logging work perfectly within a notebook environment."
   ]
  },
  {
   "cell_type": "code",
   "execution_count": null,
   "id": "a7a659f0",
   "metadata": {},
   "outputs": [],
   "source": [
    "!sed -i 's/from tqdm import tqdm/from tqdm.notebook import tqdm/' scripts/train.py\n",
    "# Comment out the script's internal logging config to let the notebook control it\n",
    "!sed -i '/^logging.basicConfig/s/^/#/' scripts/train.py\n",
    "\n",
    "print(\"✅ `train.py` patched for notebook execution.\")"
   ]
  },
  {
   "cell_type": "markdown",
   "id": "cf01d47a",
   "metadata": {},
   "source": [
    "## Step 3: Define Data Path\n",
    "\n",
    "**IMPORTANT:** Update the `DATA_PATH` variable to point to your training dataset."
   ]
  },
  {
   "cell_type": "code",
   "execution_count": null,
   "id": "a0e9e4ad",
   "metadata": {},
   "outputs": [],
   "source": [
    "# --- UPDATE THIS PATH ---\n",
    "# This should point to the folder containing 'mature' and 'immature' subfolders.\n",
    "DATA_PATH = \"/kaggle/input/your-dataset/train\""
   ]
  },
  {
   "cell_type": "markdown",
   "id": "ecfc8fbd",
   "metadata": {},
   "source": [
    "## Step 4: Run Training Sessions\n",
    "\n",
    "Run the desired cell below to start the full training process for a specific model. The output will be displayed in the cell and saved to the corresponding log file in the `results/` directory."
   ]
  },
  {
   "cell_type": "markdown",
   "id": "481ae1c1",
   "metadata": {},
   "source": [
    "### ▶️ Train Baseline Model"
   ]
  },
  {
   "cell_type": "code",
   "execution_count": null,
   "id": "5350a7c5",
   "metadata": {},
   "outputs": [],
   "source": [
    "!python -m scripts.train \\\n",
    "    --model_type baseline \\\n",
    "    --data_dir {DATA_PATH}"
   ]
  },
  {
   "cell_type": "markdown",
   "id": "0b202ed0",
   "metadata": {},
   "source": [
    "### ▶️ Train A-EYE Model (4 Rings)"
   ]
  },
  {
   "cell_type": "code",
   "execution_count": null,
   "id": "5e511b1a",
   "metadata": {},
   "outputs": [],
   "source": [
    "!python -m scripts.train \\\n",
    "    --model_type aeye \\\n",
    "    --num_rings 4 \\\n",
    "    --data_dir {DATA_PATH}"
   ]
  },
  {
   "cell_type": "markdown",
   "id": "82b76755",
   "metadata": {},
   "source": [
    "### ▶️ Train A-EYE Model (8 Rings)"
   ]
  },
  {
   "cell_type": "code",
   "execution_count": null,
   "id": "d7698c64",
   "metadata": {},
   "outputs": [],
   "source": [
    "!python -m scripts.train \\\n",
    "    --model_type aeye \\\n",
    "    --num_rings 8 \\\n",
    "    --data_dir {DATA_PATH}"
   ]
  },
  {
   "cell_type": "markdown",
   "id": "d2bfd2b8",
   "metadata": {},
   "source": [
    "### ▶️ Train A-EYE Model (16 Rings)"
   ]
  },
  {
   "cell_type": "code",
   "execution_count": null,
   "id": "9cc6ad30",
   "metadata": {},
   "outputs": [],
   "source": [
    "!python -m scripts.train \\\n",
    "    --model_type aeye \\\n",
    "    --num_rings 16 \\\n",
    "    --data_dir {DATA_PATH}"
   ]
  }
 ],
 "metadata": {
  "language_info": {
   "name": "python"
  }
 },
 "nbformat": 4,
 "nbformat_minor": 5
}
